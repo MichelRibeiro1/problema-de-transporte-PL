{
 "cells": [
  {
   "cell_type": "code",
   "execution_count": 10,
   "metadata": {},
   "outputs": [],
   "source": [
    "from pulp import *"
   ]
  },
  {
   "cell_type": "code",
   "execution_count": 11,
   "metadata": {},
   "outputs": [],
   "source": [
    "warehouses = [\"rec\",\"sp\", \"poa\", \"ssa\", \"br\", \"fp\", \"man\"]"
   ]
  },
  {
   "cell_type": "code",
   "execution_count": 12,
   "metadata": {},
   "outputs": [],
   "source": [
    "supply = {\n",
    "    \"rec\": 81000,\n",
    "    \"sp\": 123000,\n",
    "    \"poa\": 95000,\n",
    "    \"ssa\": 85000,\n",
    "    \"br\": 64000,\n",
    "    \"fp\": 79000,\n",
    "    \"man\": 99000\n",
    "}"
   ]
  },
  {
   "cell_type": "code",
   "execution_count": 13,
   "metadata": {},
   "outputs": [],
   "source": [
    "stores = [\n",
    "    0, #ber\n",
    "    1, #lon\n",
    "    2, #lis\n",
    "    3, #ny\n",
    "    4, #toq\n",
    "    5, #cai\n",
    "    6, #sid\n",
    "]"
   ]
  },
  {
   "cell_type": "code",
   "execution_count": 14,
   "metadata": {},
   "outputs": [],
   "source": [
    "demand = {\n",
    "    0: 4500,\n",
    "    1: 19000,\n",
    "    2: 78000,\n",
    "    3: 43500,\n",
    "    4: 46000,\n",
    "    5: 11000,\n",
    "    6: 13500\n",
    "}"
   ]
  },
  {
   "cell_type": "code",
   "execution_count": 15,
   "metadata": {},
   "outputs": [],
   "source": [
    "costs = {\n",
    "         \"rec\": [0.50, 0.40, 0.35, 0.30, 1.25, 1.05, 0.85],\n",
    "         \"sp\":  [0.45, 0.50, 0.45, 0.25, 1.00, 0.75, 0.55],\n",
    "         \"poa\": [0.55, 0.75, 0.55, 0.60, 1.20, 0.85, 0.55],\n",
    "         \"ssa\": [0.50, 0.45, 0.40, 0.35, 1.20, 1.00, 0.85],\n",
    "         \"br\":  [0.60, 0.70, 0.60, 0.40, 1.30, 0.80, 0.80],\n",
    "         \"fp\":  [0.75, 0.65, 0.60, 0.55, 1.40, 0.80, 0.85],\n",
    "         \"man\": [0.60, 0.85, 0.55, 0.35, 1.10, 1.20, 0.85]\n",
    "}"
   ]
  },
  {
   "cell_type": "code",
   "execution_count": 16,
   "metadata": {},
   "outputs": [],
   "source": [
    "prob = LpProblem(\"Distribuicao_de_Pudim_de_Leite\", LpMinimize)"
   ]
  },
  {
   "cell_type": "code",
   "execution_count": 17,
   "metadata": {},
   "outputs": [],
   "source": [
    "routes = [(w,b) for w in warehouses for b in stores]"
   ]
  },
  {
   "cell_type": "code",
   "execution_count": 18,
   "metadata": {},
   "outputs": [],
   "source": [
    "route_vars = LpVariable.dicts(\"Route\",(warehouses, stores), 0, None, LpInteger)"
   ]
  },
  {
   "cell_type": "code",
   "execution_count": 19,
   "metadata": {},
   "outputs": [],
   "source": [
    "prob += lpSum([route_vars[w][b]*costs[w][b] for (w,b) in routes]), \"Sum of Transporting Costs\""
   ]
  },
  {
   "cell_type": "code",
   "execution_count": 20,
   "metadata": {},
   "outputs": [],
   "source": [
    "for w in warehouses:\n",
    "    prob += lpSum([route_vars[w][b] for b in stores]) <= supply[w], \"Sum of Products out of Warehouse %s\"%w"
   ]
  },
  {
   "cell_type": "code",
   "execution_count": 26,
   "metadata": {},
   "outputs": [],
   "source": [
    "for b in stores:\n",
    "    prob += lpSum([route_vars[w][b] for w in warehouses]) >= demand[b], \"Sum of Products into Stores %s\"%b"
   ]
  },
  {
   "cell_type": "code",
   "execution_count": 27,
   "metadata": {},
   "outputs": [
    {
     "data": {
      "text/plain": [
       "1"
      ]
     },
     "execution_count": 27,
     "metadata": {},
     "output_type": "execute_result"
    }
   ],
   "source": [
    "prob.solve()"
   ]
  },
  {
   "cell_type": "code",
   "execution_count": 28,
   "metadata": {},
   "outputs": [
    {
     "name": "stdout",
     "output_type": "stream",
     "text": [
      "Status: Optimal\n"
     ]
    }
   ],
   "source": [
    "print(\"Status:\", LpStatus[prob.status])"
   ]
  },
  {
   "cell_type": "code",
   "execution_count": 29,
   "metadata": {},
   "outputs": [
    {
     "name": "stdout",
     "output_type": "stream",
     "text": [
      "Route_poa_6 = 13500\n",
      "Route_rec_1 = 19000\n",
      "Route_rec_2 = 62000\n",
      "Route_sp_0 = 4500\n",
      "Route_sp_3 = 43500\n",
      "Route_sp_4 = 46000\n",
      "Route_sp_5 = 11000\n",
      "Route_ssa_2 = 16000\n"
     ]
    }
   ],
   "source": [
    "for v in prob.variables():\n",
    "    if v.varValue > 0:\n",
    "        print(v.name, \"=\", int(v.varValue))"
   ]
  },
  {
   "cell_type": "code",
   "execution_count": 30,
   "metadata": {},
   "outputs": [
    {
     "name": "stdout",
     "output_type": "stream",
     "text": [
      "Total Cost =  110275.0\n"
     ]
    }
   ],
   "source": [
    "print(\"Total Cost = \", value(prob.objective))"
   ]
  }
 ],
 "metadata": {
  "kernelspec": {
   "display_name": "Python 3",
   "language": "python",
   "name": "python3"
  },
  "language_info": {
   "codemirror_mode": {
    "name": "ipython",
    "version": 3
   },
   "file_extension": ".py",
   "mimetype": "text/x-python",
   "name": "python",
   "nbconvert_exporter": "python",
   "pygments_lexer": "ipython3",
   "version": "3.6.9"
  }
 },
 "nbformat": 4,
 "nbformat_minor": 4
}
